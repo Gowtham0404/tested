{
 "cells": [
  {
   "cell_type": "markdown",
   "id": "86f51bdd",
   "metadata": {
    "tags": [
     "papermill-error-cell-tag"
    ]
   },
   "source": [
    "<span style=\"color:red; font-family:Helvetica Neue, Helvetica, Arial, sans-serif; font-size:2em;\">An Exception was encountered at '<a href=\"#papermill-error-cell\">In [3]</a>'.</span>"
   ]
  },
  {
   "cell_type": "code",
   "execution_count": 1,
   "id": "7a781cc9",
   "metadata": {
    "execution": {
     "iopub.execute_input": "2023-12-09T04:52:26.468328Z",
     "iopub.status.busy": "2023-12-09T04:52:26.466330Z",
     "iopub.status.idle": "2023-12-09T04:52:44.599395Z",
     "shell.execute_reply": "2023-12-09T04:52:44.597383Z"
    },
    "papermill": {
     "duration": 18.167084,
     "end_time": "2023-12-09T04:52:44.603417",
     "exception": false,
     "start_time": "2023-12-09T04:52:26.436333",
     "status": "completed"
    },
    "tags": []
   },
   "outputs": [
    {
     "name": "stdout",
     "output_type": "stream",
     "text": [
      "Requirement already satisfied: isodate in c:\\users\\administrator\\appdata\\local\\programs\\python\\python310\\lib\\site-packages (0.6.1)\n",
      "Requirement already satisfied: six in c:\\users\\administrator\\appdata\\local\\programs\\python\\python310\\lib\\site-packages (from isodate) (1.16.0)\n"
     ]
    },
    {
     "name": "stderr",
     "output_type": "stream",
     "text": [
      "WARNING: Ignoring invalid distribution -rotobuf (c:\\users\\administrator\\appdata\\local\\programs\\python\\python310\\lib\\site-packages)\n",
      "WARNING: Ignoring invalid distribution -pencv-python-headless (c:\\users\\administrator\\appdata\\local\\programs\\python\\python310\\lib\\site-packages)\n",
      "WARNING: Ignoring invalid distribution -ensorflow-intel (c:\\users\\administrator\\appdata\\local\\programs\\python\\python310\\lib\\site-packages)\n",
      "WARNING: Ignoring invalid distribution -atplotlib (c:\\users\\administrator\\appdata\\local\\programs\\python\\python310\\lib\\site-packages)\n",
      "WARNING: Ignoring invalid distribution -rotobuf (c:\\users\\administrator\\appdata\\local\\programs\\python\\python310\\lib\\site-packages)\n",
      "WARNING: Ignoring invalid distribution -pencv-python-headless (c:\\users\\administrator\\appdata\\local\\programs\\python\\python310\\lib\\site-packages)\n",
      "WARNING: Ignoring invalid distribution -ensorflow-intel (c:\\users\\administrator\\appdata\\local\\programs\\python\\python310\\lib\\site-packages)\n",
      "WARNING: Ignoring invalid distribution -atplotlib (c:\\users\\administrator\\appdata\\local\\programs\\python\\python310\\lib\\site-packages)\n",
      "WARNING: Ignoring invalid distribution -rotobuf (c:\\users\\administrator\\appdata\\local\\programs\\python\\python310\\lib\\site-packages)\n",
      "WARNING: Ignoring invalid distribution -pencv-python-headless (c:\\users\\administrator\\appdata\\local\\programs\\python\\python310\\lib\\site-packages)\n",
      "WARNING: Ignoring invalid distribution -ensorflow-intel (c:\\users\\administrator\\appdata\\local\\programs\\python\\python310\\lib\\site-packages)\n",
      "WARNING: Ignoring invalid distribution -atplotlib (c:\\users\\administrator\\appdata\\local\\programs\\python\\python310\\lib\\site-packages)\n",
      "WARNING: Ignoring invalid distribution -rotobuf (c:\\users\\administrator\\appdata\\local\\programs\\python\\python310\\lib\\site-packages)\n",
      "WARNING: Ignoring invalid distribution -pencv-python-headless (c:\\users\\administrator\\appdata\\local\\programs\\python\\python310\\lib\\site-packages)\n",
      "WARNING: Ignoring invalid distribution -ensorflow-intel (c:\\users\\administrator\\appdata\\local\\programs\\python\\python310\\lib\\site-packages)\n",
      "WARNING: Ignoring invalid distribution -atplotlib (c:\\users\\administrator\\appdata\\local\\programs\\python\\python310\\lib\\site-packages)\n",
      "WARNING: Ignoring invalid distribution -rotobuf (c:\\users\\administrator\\appdata\\local\\programs\\python\\python310\\lib\\site-packages)\n",
      "WARNING: Ignoring invalid distribution -pencv-python-headless (c:\\users\\administrator\\appdata\\local\\programs\\python\\python310\\lib\\site-packages)\n",
      "WARNING: Ignoring invalid distribution -ensorflow-intel (c:\\users\\administrator\\appdata\\local\\programs\\python\\python310\\lib\\site-packages)\n",
      "WARNING: Ignoring invalid distribution -atplotlib (c:\\users\\administrator\\appdata\\local\\programs\\python\\python310\\lib\\site-packages)\n",
      "WARNING: Ignoring invalid distribution -rotobuf (c:\\users\\administrator\\appdata\\local\\programs\\python\\python310\\lib\\site-packages)\n",
      "WARNING: Ignoring invalid distribution -pencv-python-headless (c:\\users\\administrator\\appdata\\local\\programs\\python\\python310\\lib\\site-packages)\n",
      "WARNING: Ignoring invalid distribution -ensorflow-intel (c:\\users\\administrator\\appdata\\local\\programs\\python\\python310\\lib\\site-packages)\n",
      "WARNING: Ignoring invalid distribution -atplotlib (c:\\users\\administrator\\appdata\\local\\programs\\python\\python310\\lib\\site-packages)\n",
      "\n",
      "[notice] A new release of pip available: 22.3.1 -> 23.3.1\n",
      "[notice] To update, run: python.exe -m pip install --upgrade pip\n"
     ]
    }
   ],
   "source": [
    "!pip install isodate"
   ]
  },
  {
   "cell_type": "code",
   "execution_count": 2,
   "id": "3bd2afa2",
   "metadata": {
    "execution": {
     "iopub.execute_input": "2023-12-09T04:52:44.699067Z",
     "iopub.status.busy": "2023-12-09T04:52:44.698066Z",
     "iopub.status.idle": "2023-12-09T04:52:48.719072Z",
     "shell.execute_reply": "2023-12-09T04:52:48.716067Z"
    },
    "papermill": {
     "duration": 4.039998,
     "end_time": "2023-12-09T04:52:48.725068",
     "exception": false,
     "start_time": "2023-12-09T04:52:44.685070",
     "status": "completed"
    },
    "tags": []
   },
   "outputs": [],
   "source": [
    "import dateutil.parser\n",
    "import dateutil\n",
    "import pandas as pd\n",
    "import numpy as np\n",
    "import pymongo"
   ]
  },
  {
   "cell_type": "markdown",
   "id": "1baf4f8f",
   "metadata": {
    "tags": [
     "papermill-error-cell-tag"
    ]
   },
   "source": [
    "<span id=\"papermill-error-cell\" style=\"color:red; font-family:Helvetica Neue, Helvetica, Arial, sans-serif; font-size:2em;\">Execution using papermill encountered an exception here and stopped:</span>"
   ]
  },
  {
   "cell_type": "code",
   "execution_count": 3,
   "id": "efe3616a",
   "metadata": {
    "execution": {
     "iopub.execute_input": "2023-12-09T04:52:48.845335Z",
     "iopub.status.busy": "2023-12-09T04:52:48.843336Z",
     "iopub.status.idle": "2023-12-09T04:52:51.156336Z",
     "shell.execute_reply": "2023-12-09T04:52:51.153380Z"
    },
    "papermill": {
     "duration": 2.420288,
     "end_time": "2023-12-09T04:52:51.158356",
     "exception": true,
     "start_time": "2023-12-09T04:52:48.738068",
     "status": "failed"
    },
    "tags": [
     "parameters"
    ]
   },
   "outputs": [
    {
     "ename": "NameError",
     "evalue": "name 'mongo_host' is not defined",
     "output_type": "error",
     "traceback": [
      "\u001b[1;31m---------------------------------------------------------------------------\u001b[0m",
      "\u001b[1;31mNameError\u001b[0m                                 Traceback (most recent call last)",
      "Cell \u001b[1;32mIn [3], line 3\u001b[0m\n\u001b[0;32m      1\u001b[0m \u001b[38;5;66;03m#class processing_data:\u001b[39;00m\n\u001b[0;32m      2\u001b[0m \u001b[38;5;66;03m#############Sub Functions ################\u001b[39;00m\n\u001b[1;32m----> 3\u001b[0m client \u001b[38;5;241m=\u001b[39m pymongo\u001b[38;5;241m.\u001b[39mMongoClient(\u001b[38;5;124mf\u001b[39m\u001b[38;5;124m\"\u001b[39m\u001b[38;5;124mmongodb://\u001b[39m\u001b[38;5;132;01m{\u001b[39;00mmongo_host\u001b[38;5;132;01m}\u001b[39;00m\u001b[38;5;124m:\u001b[39m\u001b[38;5;132;01m{\u001b[39;00mmongo_port\u001b[38;5;132;01m}\u001b[39;00m\u001b[38;5;124m\"\u001b[39m)\n\u001b[0;32m      5\u001b[0m \u001b[38;5;66;03m# Define the update_last_processed_timestamp_to_db function\u001b[39;00m\n\u001b[0;32m      6\u001b[0m \u001b[38;5;28;01mdef\u001b[39;00m \u001b[38;5;21mupdate_last_processed_timestamp_to_db\u001b[39m(timestamp):\n",
      "\u001b[1;31mNameError\u001b[0m: name 'mongo_host' is not defined"
     ]
    }
   ],
   "source": [
    "#class processing_data:\n",
    "#############Sub Functions ################\n",
    "client = pymongo.MongoClient(f\"mongodb://{mongo_host}:{mongo_port}\")\n",
    "\n",
    "# Define the update_last_processed_timestamp_to_db function\n",
    "def update_last_processed_timestamp_to_db(timestamp):\n",
    "    print('timestamp:', timestamp, \"collection:\", last_timestamp_collection_name)\n",
    "    last_timestamp_collection = db[last_timestamp_collection_name].update_one({}, {\"$set\": {\"last_processed_timestamp\": timestamp}}, upsert=True)\n",
    "    print('update output', last_timestamp_collection)\n",
    "    cursor = db[last_timestamp_collection_name].find({})\n",
    "    documents = list(cursor)\n",
    "    cursor.close()\n",
    "    # print(pd.DataFrame(documents))\n",
    "\n",
    "    #last_timestamp_collection.update_one({}, {\"$set\": {\"last_processed_timestamp\": timestamp}}, upsert=True)\n",
    "\n",
    "def process_since_last_timestamp(last_timestamp):\n",
    "    # dtm=datetime.datetime.strptime(last_timestamp,'%m/%d/%Y %H:%M:%S %p')\n",
    "    vtime = {'Timestamp': {'$gt': last_timestamp}}\n",
    "    # print(vtime)\n",
    "    # print(last_timestamp)\n",
    "    # vtime = {'Timestamp': {'$gt': dtm.strftime('%Y-%m-%dT%H:%M:%S.%f%z')}}\n",
    "    # vtime = {'Timestamp': {'$gt': dtm}}\n",
    "\n",
    "    # print(last_timestamp)\n",
    "    # print(vtime)\n",
    "    cursor = db[collection_name].find(vtime)\n",
    "    documents = list(cursor)\n",
    "\n",
    "    ## karu for time being neeed to check it out cursor.close()\n",
    "\n",
    "    cdc_data = pd.DataFrame(documents)\n",
    "\n",
    "    if len(cdc_data) == 0:\n",
    "        print('No records processed...')\n",
    "    else:\n",
    "        max_timestamp = cdc_data['Timestamp'].max()\n",
    "        update_last_processed_timestamp_to_db(max_timestamp)\n",
    "\n",
    "    return cdc_data\n",
    "\n",
    "def process_all_records():\n",
    "    cursor = db[collection_name].find({})\n",
    "    documents = list(cursor)\n",
    "    cursor.close()\n",
    "\n",
    "    cdc_data = pd.DataFrame(documents)\n",
    "\n",
    "    cdc_data['Timestamp'] = pd.to_datetime(cdc_data['Timestamp'])#\n",
    "\n",
    "    \n",
    "    if len(cdc_data) == 0:\n",
    "        print('No records processed...')\n",
    "    else:\n",
    "        max_timestamp = cdc_data['Timestamp'].max()\n",
    "        print('Timestamp of last processed data:', max_timestamp)\n",
    "        update_last_processed_timestamp_to_db(max_timestamp)\n",
    "\n",
    "    return cdc_data\n",
    "\n",
    "def get_last_processed_timestamp():\n",
    "    update_last_processed_timestamp_to_db(0)\n",
    "\n",
    "    last_timestamp_collection = db[last_timestamp_collection_name]\n",
    "    last_processed_timestamp = last_timestamp_collection.find_one({}).get('last_processed_timestamp')\n",
    "\n",
    "    print('last_processed_timestamp:', last_processed_timestamp)\n",
    "\n",
    "    if last_processed_timestamp == 0 or last_processed_timestamp is None or pd.isnull(last_processed_timestamp):\n",
    "        print('Processing all records')\n",
    "        cdc_data = process_all_records()\n",
    "    else:\n",
    "        if last_processed_timestamp == 0:\n",
    "            print('Processing all records since it is 0')\n",
    "            cdc_data = process_all_records()\n",
    "        else:\n",
    "            print('Processing cdc records:')\n",
    "            print(last_processed_timestamp)\n",
    "            cdc_data = process_since_last_timestamp(last_processed_timestamp)\n",
    "\n",
    "    client.close()\n",
    "\n",
    "    return cdc_data\n",
    "\n",
    "\n",
    "# Call the get_last_processed_timestamp function\n",
    "fcdc_data = get_last_processed_timestamp()\n",
    "\n",
    "# Print the resulting DataFrame\n",
    "print(fcdc_data)\n"
   ]
  },
  {
   "cell_type": "code",
   "execution_count": null,
   "id": "8cab9c84",
   "metadata": {
    "papermill": {
     "duration": null,
     "end_time": null,
     "exception": null,
     "start_time": null,
     "status": "pending"
    },
    "tags": [
     "injected-parameters"
    ]
   },
   "outputs": [],
   "source": [
    "# Parameters\n",
    "mongo_host = \"localhost\"\n",
    "mongo_port = 27017\n",
    "collection_name = \"emaildatafeeder\"\n",
    "last_timestamp_collection_name = \"lasttimestamp\"\n",
    "db = \"admin\"\n",
    "max_timestamp = \"\"\n"
   ]
  }
 ],
 "metadata": {
  "celltoolbar": "Tags",
  "kernelspec": {
   "display_name": "Python 3 (ipykernel)",
   "language": "python",
   "name": "python3"
  },
  "language_info": {
   "codemirror_mode": {
    "name": "ipython",
    "version": 3
   },
   "file_extension": ".py",
   "mimetype": "text/x-python",
   "name": "python",
   "nbconvert_exporter": "python",
   "pygments_lexer": "ipython3",
   "version": "3.10.0"
  },
  "papermill": {
   "default_parameters": {},
   "duration": 38.339507,
   "end_time": "2023-12-09T04:52:54.006650",
   "environment_variables": {},
   "exception": true,
   "input_path": "script.ipynb",
   "output_path": "output_notebook.ipynb",
   "parameters": {
    "collection_name": "emaildatafeeder",
    "db": "admin",
    "last_timestamp_collection_name": "lasttimestamp",
    "max_timestamp": "",
    "mongo_host": "localhost",
    "mongo_port": 27017
   },
   "start_time": "2023-12-09T04:52:15.667143",
   "version": "2.5.0"
  }
 },
 "nbformat": 4,
 "nbformat_minor": 5
}